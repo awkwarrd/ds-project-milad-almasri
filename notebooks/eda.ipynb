{
 "cells": [
  {
   "cell_type": "markdown",
   "metadata": {},
   "source": [
    "# EDA"
   ]
  },
  {
   "cell_type": "markdown",
   "metadata": {
    "vscode": {
     "languageId": "plaintext"
    }
   },
   "source": [
    "## Setup"
   ]
  },
  {
   "cell_type": "markdown",
   "metadata": {},
   "source": [
    "### Loading Custom Modules\n",
    "\n",
    "In this notebook we will use `etl_pipeline`, created in dqc notebook, but it contains some custom transformers, so I've created module with all dependenties for pipeline. You can install it by running next cell."
   ]
  },
  {
   "cell_type": "code",
   "execution_count": 29,
   "metadata": {},
   "outputs": [
    {
     "name": "stdout",
     "output_type": "stream",
     "text": [
      "Note: you may need to restart the kernel to use updated packages.\n",
      "Instalation Complitted!\n"
     ]
    }
   ],
   "source": [
    "%pip install ..\\scripts -q\n",
    "print(\"Instalation Complitted!\")"
   ]
  },
  {
   "cell_type": "markdown",
   "metadata": {
    "vscode": {
     "languageId": "plaintext"
    }
   },
   "source": [
    "### Importing Modules"
   ]
  },
  {
   "cell_type": "code",
   "execution_count": 30,
   "metadata": {},
   "outputs": [],
   "source": [
    "import pandas as pd\n",
    "import numpy as np\n",
    "\n",
    "import matplotlib.pyplot as plt\n",
    "import seaborn as sns\n",
    "import plotly as px\n",
    "\n",
    "from etl.transformers import *\n",
    "\n",
    "from pickle import dump, load"
   ]
  },
  {
   "cell_type": "markdown",
   "metadata": {},
   "source": [
    "### Importing Data"
   ]
  },
  {
   "cell_type": "code",
   "execution_count": 31,
   "metadata": {},
   "outputs": [],
   "source": [
    "item_categories = pd.read_csv(\"../data/item_categories.csv\")\n",
    "shops = pd.read_csv(\"../data/shops.csv\")\n",
    "items = pd.read_csv(\"../data/items.csv\")\n",
    "\n",
    "sales_train = pd.read_csv(\"../data/sales_train.csv\")\n",
    "test = pd.read_csv(\"../data/test.csv\", index_col=0)"
   ]
  },
  {
   "cell_type": "markdown",
   "metadata": {},
   "source": [
    "Also, now we have a DQC-ETL pipeline, so lets use it in order to transform it and make in ready for EDA"
   ]
  },
  {
   "cell_type": "code",
   "execution_count": 32,
   "metadata": {},
   "outputs": [],
   "source": [
    "etl_pipeline = load(open(\"../pipelines/etl_pipeline.pkl\", \"rb\"))"
   ]
  },
  {
   "cell_type": "code",
   "execution_count": 33,
   "metadata": {},
   "outputs": [
    {
     "data": {
      "text/html": [
       "<div>\n",
       "<style scoped>\n",
       "    .dataframe tbody tr th:only-of-type {\n",
       "        vertical-align: middle;\n",
       "    }\n",
       "\n",
       "    .dataframe tbody tr th {\n",
       "        vertical-align: top;\n",
       "    }\n",
       "\n",
       "    .dataframe thead th {\n",
       "        text-align: right;\n",
       "    }\n",
       "</style>\n",
       "<table border=\"1\" class=\"dataframe\">\n",
       "  <thead>\n",
       "    <tr style=\"text-align: right;\">\n",
       "      <th></th>\n",
       "      <th>date</th>\n",
       "      <th>date_block_num</th>\n",
       "      <th>item_price</th>\n",
       "      <th>item_cnt_day</th>\n",
       "      <th>shop_name</th>\n",
       "      <th>shop_id</th>\n",
       "      <th>item_name</th>\n",
       "      <th>item_id</th>\n",
       "      <th>item_category_name</th>\n",
       "      <th>item_category_id</th>\n",
       "    </tr>\n",
       "  </thead>\n",
       "  <tbody>\n",
       "    <tr>\n",
       "      <th>0</th>\n",
       "      <td>2013-01-02</td>\n",
       "      <td>0</td>\n",
       "      <td>999.0</td>\n",
       "      <td>1.0</td>\n",
       "      <td>Ярославль ТЦ \"Альтаир\"</td>\n",
       "      <td>59</td>\n",
       "      <td>ЯВЛЕНИЕ 2012 (BD)</td>\n",
       "      <td>22154</td>\n",
       "      <td>Кино - Blu-Ray</td>\n",
       "      <td>37</td>\n",
       "    </tr>\n",
       "    <tr>\n",
       "      <th>1</th>\n",
       "      <td>2013-01-03</td>\n",
       "      <td>0</td>\n",
       "      <td>399.0</td>\n",
       "      <td>2.0</td>\n",
       "      <td>Москва ТРК \"Атриум\"</td>\n",
       "      <td>25</td>\n",
       "      <td>DEL REY LANA  Born To Die  The Paradise Editio...</td>\n",
       "      <td>2574</td>\n",
       "      <td>Музыка - CD локального производства</td>\n",
       "      <td>55</td>\n",
       "    </tr>\n",
       "    <tr>\n",
       "      <th>2</th>\n",
       "      <td>2013-01-05</td>\n",
       "      <td>0</td>\n",
       "      <td>399.0</td>\n",
       "      <td>1.0</td>\n",
       "      <td>Москва ТРК \"Атриум\"</td>\n",
       "      <td>25</td>\n",
       "      <td>DEL REY LANA  Born To Die  The Paradise Editio...</td>\n",
       "      <td>2574</td>\n",
       "      <td>Музыка - CD локального производства</td>\n",
       "      <td>55</td>\n",
       "    </tr>\n",
       "    <tr>\n",
       "      <th>3</th>\n",
       "      <td>2013-01-07</td>\n",
       "      <td>0</td>\n",
       "      <td>399.0</td>\n",
       "      <td>1.0</td>\n",
       "      <td>Москва ТРК \"Атриум\"</td>\n",
       "      <td>25</td>\n",
       "      <td>DEL REY LANA  Born To Die  The Paradise Editio...</td>\n",
       "      <td>2574</td>\n",
       "      <td>Музыка - CD локального производства</td>\n",
       "      <td>55</td>\n",
       "    </tr>\n",
       "    <tr>\n",
       "      <th>4</th>\n",
       "      <td>2013-01-08</td>\n",
       "      <td>0</td>\n",
       "      <td>399.0</td>\n",
       "      <td>2.0</td>\n",
       "      <td>Москва ТРК \"Атриум\"</td>\n",
       "      <td>25</td>\n",
       "      <td>DEL REY LANA  Born To Die  The Paradise Editio...</td>\n",
       "      <td>2574</td>\n",
       "      <td>Музыка - CD локального производства</td>\n",
       "      <td>55</td>\n",
       "    </tr>\n",
       "    <tr>\n",
       "      <th>...</th>\n",
       "      <td>...</td>\n",
       "      <td>...</td>\n",
       "      <td>...</td>\n",
       "      <td>...</td>\n",
       "      <td>...</td>\n",
       "      <td>...</td>\n",
       "      <td>...</td>\n",
       "      <td>...</td>\n",
       "      <td>...</td>\n",
       "      <td>...</td>\n",
       "    </tr>\n",
       "    <tr>\n",
       "      <th>1224434</th>\n",
       "      <td>2015-10-10</td>\n",
       "      <td>33</td>\n",
       "      <td>299.0</td>\n",
       "      <td>1.0</td>\n",
       "      <td>Москва ТРК \"Атриум\"</td>\n",
       "      <td>25</td>\n",
       "      <td>V/A Nu Jazz Selection (digipack)</td>\n",
       "      <td>7409</td>\n",
       "      <td>Музыка - CD локального производства</td>\n",
       "      <td>55</td>\n",
       "    </tr>\n",
       "    <tr>\n",
       "      <th>1224435</th>\n",
       "      <td>2015-10-09</td>\n",
       "      <td>33</td>\n",
       "      <td>299.0</td>\n",
       "      <td>1.0</td>\n",
       "      <td>Москва ТРК \"Атриум\"</td>\n",
       "      <td>25</td>\n",
       "      <td>V/A The Golden Jazz Collection  1  2CD</td>\n",
       "      <td>7460</td>\n",
       "      <td>Музыка - CD локального производства</td>\n",
       "      <td>55</td>\n",
       "    </tr>\n",
       "    <tr>\n",
       "      <th>1224436</th>\n",
       "      <td>2015-10-14</td>\n",
       "      <td>33</td>\n",
       "      <td>349.0</td>\n",
       "      <td>1.0</td>\n",
       "      <td>Москва ТРК \"Атриум\"</td>\n",
       "      <td>25</td>\n",
       "      <td>V/A The Best Of The 3 Tenors</td>\n",
       "      <td>7459</td>\n",
       "      <td>Музыка - CD локального производства</td>\n",
       "      <td>55</td>\n",
       "    </tr>\n",
       "    <tr>\n",
       "      <th>1224437</th>\n",
       "      <td>2015-10-22</td>\n",
       "      <td>33</td>\n",
       "      <td>299.0</td>\n",
       "      <td>1.0</td>\n",
       "      <td>Москва ТРК \"Атриум\"</td>\n",
       "      <td>25</td>\n",
       "      <td>V/A Relax Collection  Planet MP3 (mp3-CD) (jewel)</td>\n",
       "      <td>7440</td>\n",
       "      <td>Музыка - MP3</td>\n",
       "      <td>57</td>\n",
       "    </tr>\n",
       "    <tr>\n",
       "      <th>1224438</th>\n",
       "      <td>2015-10-03</td>\n",
       "      <td>33</td>\n",
       "      <td>299.0</td>\n",
       "      <td>1.0</td>\n",
       "      <td>Москва ТРК \"Атриум\"</td>\n",
       "      <td>25</td>\n",
       "      <td>V/A The Golden Jazz Collection  1  2CD</td>\n",
       "      <td>7460</td>\n",
       "      <td>Музыка - CD локального производства</td>\n",
       "      <td>55</td>\n",
       "    </tr>\n",
       "  </tbody>\n",
       "</table>\n",
       "<p>1224437 rows × 10 columns</p>\n",
       "</div>"
      ],
      "text/plain": [
       "              date  date_block_num  item_price  item_cnt_day  \\\n",
       "0       2013-01-02               0       999.0           1.0   \n",
       "1       2013-01-03               0       399.0           2.0   \n",
       "2       2013-01-05               0       399.0           1.0   \n",
       "3       2013-01-07               0       399.0           1.0   \n",
       "4       2013-01-08               0       399.0           2.0   \n",
       "...            ...             ...         ...           ...   \n",
       "1224434 2015-10-10              33       299.0           1.0   \n",
       "1224435 2015-10-09              33       299.0           1.0   \n",
       "1224436 2015-10-14              33       349.0           1.0   \n",
       "1224437 2015-10-22              33       299.0           1.0   \n",
       "1224438 2015-10-03              33       299.0           1.0   \n",
       "\n",
       "                      shop_name shop_id  \\\n",
       "0        Ярославль ТЦ \"Альтаир\"      59   \n",
       "1           Москва ТРК \"Атриум\"      25   \n",
       "2           Москва ТРК \"Атриум\"      25   \n",
       "3           Москва ТРК \"Атриум\"      25   \n",
       "4           Москва ТРК \"Атриум\"      25   \n",
       "...                         ...     ...   \n",
       "1224434     Москва ТРК \"Атриум\"      25   \n",
       "1224435     Москва ТРК \"Атриум\"      25   \n",
       "1224436     Москва ТРК \"Атриум\"      25   \n",
       "1224437     Москва ТРК \"Атриум\"      25   \n",
       "1224438     Москва ТРК \"Атриум\"      25   \n",
       "\n",
       "                                                 item_name item_id  \\\n",
       "0                                        ЯВЛЕНИЕ 2012 (BD)   22154   \n",
       "1        DEL REY LANA  Born To Die  The Paradise Editio...    2574   \n",
       "2        DEL REY LANA  Born To Die  The Paradise Editio...    2574   \n",
       "3        DEL REY LANA  Born To Die  The Paradise Editio...    2574   \n",
       "4        DEL REY LANA  Born To Die  The Paradise Editio...    2574   \n",
       "...                                                    ...     ...   \n",
       "1224434                   V/A Nu Jazz Selection (digipack)    7409   \n",
       "1224435             V/A The Golden Jazz Collection  1  2CD    7460   \n",
       "1224436                       V/A The Best Of The 3 Tenors    7459   \n",
       "1224437  V/A Relax Collection  Planet MP3 (mp3-CD) (jewel)    7440   \n",
       "1224438             V/A The Golden Jazz Collection  1  2CD    7460   \n",
       "\n",
       "                          item_category_name item_category_id  \n",
       "0                             Кино - Blu-Ray               37  \n",
       "1        Музыка - CD локального производства               55  \n",
       "2        Музыка - CD локального производства               55  \n",
       "3        Музыка - CD локального производства               55  \n",
       "4        Музыка - CD локального производства               55  \n",
       "...                                      ...              ...  \n",
       "1224434  Музыка - CD локального производства               55  \n",
       "1224435  Музыка - CD локального производства               55  \n",
       "1224436  Музыка - CD локального производства               55  \n",
       "1224437                         Музыка - MP3               57  \n",
       "1224438  Музыка - CD локального производства               55  \n",
       "\n",
       "[1224437 rows x 10 columns]"
      ]
     },
     "execution_count": 33,
     "metadata": {},
     "output_type": "execute_result"
    }
   ],
   "source": [
    "sales_train = pd.read_csv(\"../data/sales_train.csv\")\n",
    "etl_pipeline.fit_transform(sales_train)"
   ]
  }
 ],
 "metadata": {
  "kernelspec": {
   "display_name": ".venv",
   "language": "python",
   "name": "python3"
  },
  "language_info": {
   "codemirror_mode": {
    "name": "ipython",
    "version": 3
   },
   "file_extension": ".py",
   "mimetype": "text/x-python",
   "name": "python",
   "nbconvert_exporter": "python",
   "pygments_lexer": "ipython3",
   "version": "3.12.6"
  }
 },
 "nbformat": 4,
 "nbformat_minor": 2
}
